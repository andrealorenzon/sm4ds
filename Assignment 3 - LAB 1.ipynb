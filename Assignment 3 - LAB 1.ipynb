{
 "cells": [
  {
   "cell_type": "markdown",
   "metadata": {},
   "source": [
    "Quadratic approximation of log-likelihood function:\n",
    "\n",
    "$$ l(\\theta) \\approx l(\\hat\\theta_{MLE}) + \\frac{dl(\\hat\\theta_{MLE})}{d\\theta} (\\theta-\\hat\\theta_{MLE}) + \\frac{1}{2} \\frac{dl^2(\\hat\\theta_{MLE})}{d\\theta^2} (\\theta-\\hat\\theta_{MLE})^2$$\n",
    "\n",
    "$$ = l(\\hat\\theta_{MLE}) + S(\\hat\\theta_{MLE})(\\theta-\\hat\\theta_{MLE}) - \\frac{1}{2} I(\\hat\\theta_{MLE})(\\theta-\\hat\\theta_{MLE})^2$$\n",
    "\n",
    "Due to $S(\\hat\\theta_{MLE})=0$ :\n",
    "\n",
    "$$ \\tilde l(\\theta) = l(\\theta)-l(\\hat\\theta_{MLE}) \\approx - \\frac{1}{2} .I (\\hat\\theta_{MLE})(\\theta - \\hat\\theta_{MLE})^2$$"
   ]
  },
  {
   "cell_type": "code",
   "execution_count": 5,
   "metadata": {},
   "outputs": [
    {
     "data": {
      "image/png": "[encoded data removed]",
      "text/plain": [
       "Plot with title “Weibull relative log likelihood”"
      ]
     },
     "metadata": {},
     "output_type": "display_data"
    }
   ],
   "source": [
    "log_lik_weibull <- function( data, param){\n",
    "  -sum(dweibull(data, shape = param[1], scale = param[2], log = TRUE))\n",
    "}\n",
    "\n",
    "y <- c(155.9, 200.2, 143.8, 150.1,152.1, 142.2, 147, 146, 146,\n",
    " 170.3, 148, 140, 118, 144, 97)\n",
    "n <- length(y)\n",
    "\n",
    " #define parameters grid\n",
    " gamma <- seq(0.1, 15, length=100)\n",
    " beta <- seq(100,200, length=100)\n",
    " parvalues <- expand.grid(gamma,beta)\n",
    " llikvalues <- apply(parvalues, 1, log_lik_weibull, data=y)\n",
    " llikvalues <- matrix(-llikvalues, nrow=length(gamma), ncol=length(beta),\n",
    " byrow=F)\n",
    " conf.levels <- c(0,0.5,0.75,0.9,0.95,0.99)\n",
    " \n",
    " #contour plot\n",
    " contour(gamma, beta, llikvalues-max(llikvalues),\n",
    " levels=-qchisq(conf.levels, 2)/2,\n",
    " xlab=expression(gamma),\n",
    " labels=as.character(conf.levels),\n",
    " ylab=expression(beta))\n",
    " title('Weibull relative log likelihood')\n",
    "\n"
   ]
  },
  {
   "cell_type": "code",
   "execution_count": 6,
   "metadata": {},
   "outputs": [
    {
     "data": {
      "text/html": [
       "<ol class=list-inline>\n",
       "\t<li>6.88621522488809</li>\n",
       "\t<li>155.948670523521</li>\n",
       "</ol>\n"
      ],
      "text/latex": [
       "\\begin{enumerate*}\n",
       "\\item 6.88621522488809\n",
       "\\item 155.948670523521\n",
       "\\end{enumerate*}\n"
      ],
      "text/markdown": [
       "1. 6.88621522488809\n",
       "2. 155.948670523521\n",
       "\n",
       "\n"
      ],
      "text/plain": [
       "[1]   6.886215 155.948671"
      ]
     },
     "metadata": {},
     "output_type": "display_data"
    }
   ],
   "source": [
    "gammahat<-uniroot(function(x) n/x+sum(log(y))-n*\n",
    " sum(y^x*log(y))/sum(y^x),\n",
    " c(1e-5,15))$root\n",
    " \n",
    "betahat<- mean(y^gammahat)^(1/gammahat)\n",
    " \n",
    "weib.y.mle<-c(gammahat,betahat)\n",
    "\n",
    "    \n",
    "#first element is the MLE for the shape gamma, second element the MLE for the scale beta\n",
    "weib.y.mle"
   ]
  },
  {
   "cell_type": "code",
   "execution_count": 7,
   "metadata": {},
   "outputs": [
    {
     "data": {
      "text/html": [
       "<table>\n",
       "<tbody>\n",
       "\t<tr><td>1.543250 </td><td> 2.550504</td></tr>\n",
       "\t<tr><td>2.550504 </td><td>38.406106</td></tr>\n",
       "</tbody>\n",
       "</table>\n"
      ],
      "text/latex": [
       "\\begin{tabular}{ll}\n",
       "\t 1.543250  &  2.550504\\\\\n",
       "\t 2.550504  & 38.406106\\\\\n",
       "\\end{tabular}\n"
      ],
      "text/markdown": [
       "\n",
       "| 1.543250  |  2.550504 |\n",
       "| 2.550504  | 38.406106 |\n",
       "\n"
      ],
      "text/plain": [
       "     [,1]     [,2]     \n",
       "[1,] 1.543250  2.550504\n",
       "[2,] 2.550504 38.406106"
      ]
     },
     "metadata": {},
     "output_type": "display_data"
    }
   ],
   "source": [
    "#observed information matrix\n",
    " jhat<-matrix(NA,nrow=2,ncol=2)\n",
    " jhat[1,1]<-n/gammahat^2+sum((y/betahat)^gammahat*\n",
    " (log(y/betahat))^2)\n",
    " jhat[1,2]<-jhat[2,1]<- n/betahat-sum(y^gammahat/betahat^(gammahat+1)*\n",
    " (gammahat*log(y/betahat)+1))\n",
    " jhat[2,2]<- -n*gammahat/betahat^2+gammahat*(gammahat+1)/\n",
    " betahat^(gammahat+2)*sum(y^gammahat)\n",
    " solve(jhat)"
   ]
  },
  {
   "cell_type": "code",
   "execution_count": 8,
   "metadata": {},
   "outputs": [
    {
     "ename": "ERROR",
     "evalue": "Error in eval(expr, envir, enclos): object 'appr_gammahat' not found\n",
     "output_type": "error",
     "traceback": [
      "Error in eval(expr, envir, enclos): object 'appr_gammahat' not found\nTraceback:\n"
     ]
    }
   ],
   "source": [
    "#appr_gammahat<-uniroot(function(x) n/x+sum(log(y))-n*\n",
    "# sum(y^x*log(y))/sum(y^x),\n",
    "# c(1e-5,15))$root\n",
    " \n",
    "appr_betahat<- mean(y^gammahat)^(1/gammahat)\n",
    " \n",
    "weib.y.appr_mle<-c(appr_gammahat,appr_betahat)\n",
    "\n",
    "    \n",
    "#first element is the MLE for the shape gamma, second element the MLE for the scale beta\n",
    "weib.y.appr_mle"
   ]
  },
  {
   "cell_type": "code",
   "execution_count": 9,
   "metadata": {},
   "outputs": [],
   "source": [
    "jh_matrix <- as.matrix(jhat)\n",
    "\n",
    "\n",
    "quadraticLogLikelihood <- function(data, theta){\n",
    "    -0.5 * t(theta - weib.y.mle) %*% \n",
    "    jh_matrix %*% \n",
    "    (theta - weib.y.mle)\n",
    "}\n",
    "\n",
    "\n",
    "y <- c(155.9, 200.2, 143.8, 150.1,152.1, \n",
    "       142.2, 147, 146, 146, 170.3, 148, \n",
    "       140, 118, 144, 97)\n",
    "n <- length(y)\n",
    "\n",
    "gamma <- seq(0.1, 15, length=100)\n",
    "beta <- seq(100,200, length=100)\n",
    "partials <- expand.grid(gamma,beta)\n",
    "likelihood <- apply(partials, 1, quadraticLogLikelihood, data=y)\n",
    "likelihood <- matrix(likelihood, nrow=length(gamma), ncol=length(beta),\n",
    "                       byrow=F) \n",
    "conf.levels <- c(0,0.5,0.75,0.9,0.95,0.99)\n",
    "\n"
   ]
  },
  {
   "cell_type": "code",
   "execution_count": 10,
   "metadata": {},
   "outputs": [],
   "source": [
    "log_lik_weibull <- function( data, param){\n",
    "  -sum(dweibull(data, shape = param[1], scale = param[2], log = TRUE))\n",
    "}"
   ]
  },
  {
   "cell_type": "code",
   "execution_count": 11,
   "metadata": {},
   "outputs": [
    {
     "data": {
      "text/html": [
       "<ol class=list-inline>\n",
       "\t<li>6.88621522488809</li>\n",
       "\t<li>155.948670523521</li>\n",
       "</ol>\n"
      ],
      "text/latex": [
       "\\begin{enumerate*}\n",
       "\\item 6.88621522488809\n",
       "\\item 155.948670523521\n",
       "\\end{enumerate*}\n"
      ],
      "text/markdown": [
       "1. 6.88621522488809\n",
       "2. 155.948670523521\n",
       "\n",
       "\n"
      ],
      "text/plain": [
       "[1]   6.886215 155.948671"
      ]
     },
     "metadata": {},
     "output_type": "display_data"
    }
   ],
   "source": [
    "gammahat<-uniroot(function(x) n/x+sum(log(y))-n*\n",
    " sum(y^x*log(y))/sum(y^x),\n",
    " c(1e-5,15))$root\n",
    " betahat<- mean(y^gammahat)^(1/gammahat)\n",
    " weib.y.mle<-c(gammahat,betahat)\n",
    " #first element is the MLE for the shape gamma, second element the MLE for the scale beta\n",
    " weib.y.mle"
   ]
  },
  {
   "cell_type": "code",
   "execution_count": 14,
   "metadata": {},
   "outputs": [
    {
     "name": "stderr",
     "output_type": "stream",
     "text": [
      "Warning message in dweibull(data, shape = param[1], scale = param[2], log = TRUE):\n",
      "“NaNs produced”Warning message in nlm(log_lik_weibull_rep, c(0, 0), hessian = T, data = y):\n",
      "“NA/Inf replaced by maximum positive value”Warning message in dweibull(data, shape = param[1], scale = param[2], log = TRUE):\n",
      "“NaNs produced”Warning message in nlm(log_lik_weibull_rep, c(0, 0), hessian = T, data = y):\n",
      "“NA/Inf replaced by maximum positive value”Warning message in dweibull(data, shape = param[1], scale = param[2], log = TRUE):\n",
      "“NaNs produced”Warning message in nlm(log_lik_weibull_rep, c(0, 0), hessian = T, data = y):\n",
      "“NA/Inf replaced by maximum positive value”Warning message in nlm(log_lik_weibull_rep, c(0, 0), hessian = T, data = y):\n",
      "“NA/Inf replaced by maximum positive value”Warning message in dweibull(data, shape = param[1], scale = param[2], log = TRUE):\n",
      "“NaNs produced”Warning message in nlm(log_lik_weibull_rep, c(0, 0), hessian = T, data = y):\n",
      "“NA/Inf replaced by maximum positive value”Warning message in nlm(log_lik_weibull_rep, c(0, 0), hessian = T, data = y):\n",
      "“NA/Inf replaced by maximum positive value”Warning message in dweibull(data, shape = param[1], scale = param[2], log = TRUE):\n",
      "“NaNs produced”Warning message in nlm(log_lik_weibull_rep, c(0, 0), hessian = T, data = y):\n",
      "“NA/Inf replaced by maximum positive value”Warning message in nlm(log_lik_weibull_rep, c(0, 0), hessian = T, data = y):\n",
      "“NA/Inf replaced by maximum positive value”Warning message in dweibull(data, shape = param[1], scale = param[2], log = TRUE):\n",
      "“NaNs produced”Warning message in nlm(log_lik_weibull_rep, c(0, 0), hessian = T, data = y):\n",
      "“NA/Inf replaced by maximum positive value”Warning message in nlm(log_lik_weibull_rep, c(0, 0), hessian = T, data = y):\n",
      "“NA/Inf replaced by maximum positive value”Warning message in dweibull(data, shape = param[1], scale = param[2], log = TRUE):\n",
      "“NaNs produced”Warning message in nlm(log_lik_weibull_rep, c(0, 0), hessian = T, data = y):\n",
      "“NA/Inf replaced by maximum positive value”Warning message in nlm(log_lik_weibull_rep, c(0, 0), hessian = T, data = y):\n",
      "“NA/Inf replaced by maximum positive value”Warning message in nlm(log_lik_weibull_rep, c(0, 0), hessian = T, data = y):\n",
      "“NA/Inf replaced by maximum positive value”Warning message in dweibull(data, shape = param[1], scale = param[2], log = TRUE):\n",
      "“NaNs produced”Warning message in nlm(log_lik_weibull_rep, c(0, 0), hessian = T, data = y):\n",
      "“NA/Inf replaced by maximum positive value”Warning message in nlm(log_lik_weibull_rep, c(0, 0), hessian = T, data = y):\n",
      "“NA/Inf replaced by maximum positive value”"
     ]
    },
    {
     "data": {
      "text/html": [
       "<dl>\n",
       "\t<dt>$minimum</dt>\n",
       "\t\t<dd>68.1784011855606</dd>\n",
       "\t<dt>$estimate</dt>\n",
       "\t\t<dd><ol class=list-inline>\n",
       "\t<li>1.92951610330804</li>\n",
       "\t<li>5.0495240205151</li>\n",
       "</ol>\n",
       "</dd>\n",
       "\t<dt>$gradient</dt>\n",
       "\t\t<dd><ol class=list-inline>\n",
       "\t<li>-6.7242301490697e-06</li>\n",
       "\t<li>2.12338625166618e-05</li>\n",
       "</ol>\n",
       "</dd>\n",
       "\t<dt>$hessian</dt>\n",
       "\t\t<dd><table>\n",
       "<tbody>\n",
       "\t<tr><td> 34.53496</td><td>-51.49153</td></tr>\n",
       "\t<tr><td>-51.49153</td><td>708.83544</td></tr>\n",
       "</tbody>\n",
       "</table>\n",
       "</dd>\n",
       "\t<dt>$code</dt>\n",
       "\t\t<dd>2</dd>\n",
       "\t<dt>$iterations</dt>\n",
       "\t\t<dd>30</dd>\n",
       "</dl>\n"
      ],
      "text/latex": [
       "\\begin{description}\n",
       "\\item[\\$minimum] 68.1784011855606\n",
       "\\item[\\$estimate] \\begin{enumerate*}\n",
       "\\item 1.92951610330804\n",
       "\\item 5.0495240205151\n",
       "\\end{enumerate*}\n",
       "\n",
       "\\item[\\$gradient] \\begin{enumerate*}\n",
       "\\item -6.7242301490697e-06\n",
       "\\item 2.12338625166618e-05\n",
       "\\end{enumerate*}\n",
       "\n",
       "\\item[\\$hessian] \\begin{tabular}{ll}\n",
       "\t  34.53496 & -51.49153\\\\\n",
       "\t -51.49153 & 708.83544\\\\\n",
       "\\end{tabular}\n",
       "\n",
       "\\item[\\$code] 2\n",
       "\\item[\\$iterations] 30\n",
       "\\end{description}\n"
      ],
      "text/markdown": [
       "$minimum\n",
       ":   68.1784011855606\n",
       "$estimate\n",
       ":   1. 1.92951610330804\n",
       "2. 5.0495240205151\n",
       "\n",
       "\n",
       "\n",
       "$gradient\n",
       ":   1. -6.7242301490697e-06\n",
       "2. 2.12338625166618e-05\n",
       "\n",
       "\n",
       "\n",
       "$hessian\n",
       ":   \n",
       "|  34.53496 | -51.49153 |\n",
       "| -51.49153 | 708.83544 |\n",
       "\n",
       "\n",
       "$code\n",
       ":   2\n",
       "$iterations\n",
       ":   30\n",
       "\n",
       "\n"
      ],
      "text/plain": [
       "$minimum\n",
       "[1] 68.1784\n",
       "\n",
       "$estimate\n",
       "[1] 1.929516 5.049524\n",
       "\n",
       "$gradient\n",
       "[1] -6.724230e-06  2.123386e-05\n",
       "\n",
       "$hessian\n",
       "          [,1]      [,2]\n",
       "[1,]  34.53496 -51.49153\n",
       "[2,] -51.49153 708.83544\n",
       "\n",
       "$code\n",
       "[1] 2\n",
       "\n",
       "$iterations\n",
       "[1] 30\n"
      ]
     },
     "metadata": {},
     "output_type": "display_data"
    }
   ],
   "source": [
    "omega <- function(theta) log(theta)\n",
    "theta <- function(omega) exp(omega)\n",
    "log_lik_weibull_rep <- function(data, param) log_lik_weibull(data, theta(param))\n",
    "weib.y.nlm<-nlm(log_lik_weibull_rep,c(0,0),hessian=T,data=y)\n",
    "weib.y.nlm"
   ]
  },
  {
   "cell_type": "code",
   "execution_count": 15,
   "metadata": {},
   "outputs": [
    {
     "data": {
      "text/html": [
       "<ol class=list-inline>\n",
       "\t<li>6.88617723684621</li>\n",
       "\t<li>155.948218665262</li>\n",
       "</ol>\n"
      ],
      "text/latex": [
       "\\begin{enumerate*}\n",
       "\\item 6.88617723684621\n",
       "\\item 155.948218665262\n",
       "\\end{enumerate*}\n"
      ],
      "text/markdown": [
       "1. 6.88617723684621\n",
       "2. 155.948218665262\n",
       "\n",
       "\n"
      ],
      "text/plain": [
       "[1]   6.886177 155.948219"
      ]
     },
     "metadata": {},
     "output_type": "display_data"
    }
   ],
   "source": [
    "theta(weib.y.nlm$estimate)"
   ]
  },
  {
   "cell_type": "code",
   "execution_count": 18,
   "metadata": {},
   "outputs": [
    {
     "name": "stderr",
     "output_type": "stream",
     "text": [
      "Warning message in dweibull(data, shape = param[1], scale = param[2], log = TRUE):\n",
      "“NaNs produced”Warning message in dweibull(data, shape = param[1], scale = param[2], log = TRUE):\n",
      "“NaNs produced”Warning message in nlm(log_lik_weibull_rep, c(0, 0), hessian = T, data = y):\n",
      "“NA/Inf replaced by maximum positive value”Warning message in dweibull(data, shape = param[1], scale = param[2], log = TRUE):\n",
      "“NaNs produced”Warning message in nlm(log_lik_weibull_rep, c(0, 0), hessian = T, data = y):\n",
      "“NA/Inf replaced by maximum positive value”Warning message in dweibull(data, shape = param[1], scale = param[2], log = TRUE):\n",
      "“NaNs produced”Warning message in nlm(log_lik_weibull_rep, c(0, 0), hessian = T, data = y):\n",
      "“NA/Inf replaced by maximum positive value”Warning message in dweibull(data, shape = param[1], scale = param[2], log = TRUE):\n",
      "“NaNs produced”Warning message in nlm(log_lik_weibull_rep, c(0, 0), hessian = T, data = y):\n",
      "“NA/Inf replaced by maximum positive value”Warning message in dweibull(data, shape = param[1], scale = param[2], log = TRUE):\n",
      "“NaNs produced”Warning message in nlm(log_lik_weibull_rep, c(0, 0), hessian = T, data = y):\n",
      "“NA/Inf replaced by maximum positive value”Warning message in dweibull(data, shape = param[1], scale = param[2], log = TRUE):\n",
      "“NaNs produced”Warning message in nlm(log_lik_weibull_rep, c(0, 0), hessian = T, data = y):\n",
      "“NA/Inf replaced by maximum positive value”Warning message in dweibull(data, shape = param[1], scale = param[2], log = TRUE):\n",
      "“NaNs produced”Warning message in nlm(log_lik_weibull_rep, c(0, 0), hessian = T, data = y):\n",
      "“NA/Inf replaced by maximum positive value”Warning message in dweibull(data, shape = param[1], scale = param[2], log = TRUE):\n",
      "“NaNs produced”Warning message in nlm(log_lik_weibull_rep, c(0, 0), hessian = T, data = y):\n",
      "“NA/Inf replaced by maximum positive value”"
     ]
    },
    {
     "data": {
      "text/html": [
       "<dl>\n",
       "\t<dt>$minimum</dt>\n",
       "\t\t<dd>1.79769313486232e+308</dd>\n",
       "\t<dt>$estimate</dt>\n",
       "\t\t<dd><ol class=list-inline>\n",
       "\t<li>0</li>\n",
       "\t<li>0</li>\n",
       "</ol>\n",
       "</dd>\n",
       "\t<dt>$gradient</dt>\n",
       "\t\t<dd><ol class=list-inline>\n",
       "\t<li>0</li>\n",
       "\t<li>0</li>\n",
       "</ol>\n",
       "</dd>\n",
       "\t<dt>$hessian</dt>\n",
       "\t\t<dd><table>\n",
       "<tbody>\n",
       "\t<tr><td>0</td><td>0</td></tr>\n",
       "\t<tr><td>0</td><td>0</td></tr>\n",
       "</tbody>\n",
       "</table>\n",
       "</dd>\n",
       "\t<dt>$code</dt>\n",
       "\t\t<dd>1</dd>\n",
       "\t<dt>$iterations</dt>\n",
       "\t\t<dd>0</dd>\n",
       "</dl>\n"
      ],
      "text/latex": [
       "\\begin{description}\n",
       "\\item[\\$minimum] 1.79769313486232e+308\n",
       "\\item[\\$estimate] \\begin{enumerate*}\n",
       "\\item 0\n",
       "\\item 0\n",
       "\\end{enumerate*}\n",
       "\n",
       "\\item[\\$gradient] \\begin{enumerate*}\n",
       "\\item 0\n",
       "\\item 0\n",
       "\\end{enumerate*}\n",
       "\n",
       "\\item[\\$hessian] \\begin{tabular}{ll}\n",
       "\t 0 & 0\\\\\n",
       "\t 0 & 0\\\\\n",
       "\\end{tabular}\n",
       "\n",
       "\\item[\\$code] 1\n",
       "\\item[\\$iterations] 0\n",
       "\\end{description}\n"
      ],
      "text/markdown": [
       "$minimum\n",
       ":   1.79769313486232e+308\n",
       "$estimate\n",
       ":   1. 0\n",
       "2. 0\n",
       "\n",
       "\n",
       "\n",
       "$gradient\n",
       ":   1. 0\n",
       "2. 0\n",
       "\n",
       "\n",
       "\n",
       "$hessian\n",
       ":   \n",
       "| 0 | 0 |\n",
       "| 0 | 0 |\n",
       "\n",
       "\n",
       "$code\n",
       ":   1\n",
       "$iterations\n",
       ":   0\n",
       "\n",
       "\n"
      ],
      "text/plain": [
       "$minimum\n",
       "[1] 1.797693e+308\n",
       "\n",
       "$estimate\n",
       "[1] 0 0\n",
       "\n",
       "$gradient\n",
       "[1] 0 0\n",
       "\n",
       "$hessian\n",
       "     [,1] [,2]\n",
       "[1,]    0    0\n",
       "[2,]    0    0\n",
       "\n",
       "$code\n",
       "[1] 1\n",
       "\n",
       "$iterations\n",
       "[1] 0\n"
      ]
     },
     "metadata": {},
     "output_type": "display_data"
    }
   ],
   "source": [
    "omega <- function(theta) log(theta)\n",
    "theta <- function(omega) exp(omega)\n",
    "log_lik_weibull_rep <- function(data, param) log_lik_weibull(data, log(param))\n",
    "weib.y.nlm<-nlm(log_lik_weibull_rep,c(0,0),hessian=T,data=y)\n",
    "weib.y.nlm"
   ]
  },
  {
   "cell_type": "code",
   "execution_count": null,
   "metadata": {},
   "outputs": [],
   "source": []
  },
  {
   "cell_type": "code",
   "execution_count": null,
   "metadata": {},
   "outputs": [],
   "source": []
  }
 ],
 "metadata": {
  "kernelspec": {
   "display_name": "R",
   "language": "R",
   "name": "ir"
  },
  "language_info": {
   "codemirror_mode": "r",
   "file_extension": ".r",
   "mimetype": "text/x-r-source",
   "name": "R",
   "pygments_lexer": "r",
   "version": "3.4.4"
  }
 },
 "nbformat": 4,
 "nbformat_minor": 2
}
