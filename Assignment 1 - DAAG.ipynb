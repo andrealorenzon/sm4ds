{
 "cells": [
  {
   "cell_type": "markdown",
   "metadata": {},
   "source": [
    "# Assignments\n",
    "\n",
    "* DAAG: Chapter 1 (from page 38), exercises 4, 6, 11, 12, 13, 15, 17, 20.\n",
    "* CS: Chapter 1 (from page 17), exercises 1.1, 1.2, 1.6, 1.8, 1.9.\n"
   ]
  },
  {
   "cell_type": "markdown",
   "metadata": {},
   "source": [
    "Installing and loading DAAG package, from the book source."
   ]
  },
  {
   "cell_type": "code",
   "execution_count": 12,
   "metadata": {},
   "outputs": [],
   "source": [
    "if (!require(\"pacman\")) install.packages(\"pacman\")  #pacman is a package manager\n",
    "pacman::p_load(\"DAAG\")  #load library if not loaded, install if not installed\n",
    "pacman::p_load(\"dplyr\") "
   ]
  },
  {
   "cell_type": "code",
   "execution_count": 23,
   "metadata": {},
   "outputs": [
    {
     "name": "stderr",
     "output_type": "stream",
     "text": [
      "Installing package into ‘/home/andrea/R/x86_64-pc-linux-gnu-library/3.5’\n",
      "(as ‘lib’ is unspecified)\n",
      "also installing the dependencies ‘pillar’, ‘Rcpp’, ‘rlang’, ‘tibble’, ‘tidyselect’\n",
      "\n"
     ]
    }
   ],
   "source": [
    "install.packages(\"dplyr\")"
   ]
  },
  {
   "cell_type": "code",
   "execution_count": null,
   "metadata": {},
   "outputs": [],
   "source": []
  },
  {
   "cell_type": "markdown",
   "metadata": {},
   "source": [
    "## Exercise 4\n",
    "\n",
    "For the data frame ais (DAAG package)\n",
    "\n",
    "(a) Use the function str() to get information on each of the columns. Determine whether\n",
    "any of the columns hold missing values."
   ]
  },
  {
   "cell_type": "code",
   "execution_count": 9,
   "metadata": {},
   "outputs": [
    {
     "name": "stdout",
     "output_type": "stream",
     "text": [
      "'data.frame':\t202 obs. of  13 variables:\n",
      " $ rcc   : num  3.96 4.41 4.14 4.11 4.45 4.1 4.31 4.42 4.3 4.51 ...\n",
      " $ wcc   : num  7.5 8.3 5 5.3 6.8 4.4 5.3 5.7 8.9 4.4 ...\n",
      " $ hc    : num  37.5 38.2 36.4 37.3 41.5 37.4 39.6 39.9 41.1 41.6 ...\n",
      " $ hg    : num  12.3 12.7 11.6 12.6 14 12.5 12.8 13.2 13.5 12.7 ...\n",
      " $ ferr  : num  60 68 21 69 29 42 73 44 41 44 ...\n",
      " $ bmi   : num  20.6 20.7 21.9 21.9 19 ...\n",
      " $ ssf   : num  109.1 102.8 104.6 126.4 80.3 ...\n",
      " $ pcBfat: num  19.8 21.3 19.9 23.7 17.6 ...\n",
      " $ lbm   : num  63.3 58.5 55.4 57.2 53.2 ...\n",
      " $ ht    : num  196 190 178 185 185 ...\n",
      " $ wt    : num  78.9 74.4 69.1 74.9 64.6 63.7 75.2 62.3 66.5 62.9 ...\n",
      " $ sex   : Factor w/ 2 levels \"f\",\"m\": 1 1 1 1 1 1 1 1 1 1 ...\n",
      " $ sport : Factor w/ 10 levels \"B_Ball\",\"Field\",..: 1 1 1 1 1 1 1 1 1 1 ...\n"
     ]
    }
   ],
   "source": [
    "# ais already in namespace\n",
    "\n",
    "str(ais)"
   ]
  },
  {
   "cell_type": "markdown",
   "metadata": {},
   "source": [
    "Determine if there are missing values: `is.na()` returns a boolean mask of missing values. `sum` will consider `TRUE = 1, FALSE = 0`, and hence return the number of missing values. Another way to do that is use `summary()`."
   ]
  },
  {
   "cell_type": "code",
   "execution_count": 72,
   "metadata": {},
   "outputs": [
    {
     "data": {
      "text/html": [
       "0"
      ],
      "text/latex": [
       "0"
      ],
      "text/markdown": [
       "0"
      ],
      "text/plain": [
       "[1] 0"
      ]
     },
     "metadata": {},
     "output_type": "display_data"
    }
   ],
   "source": [
    "sum(is.na(ais))  #number of missing values ="
   ]
  },
  {
   "cell_type": "markdown",
   "metadata": {},
   "source": [
    "There are no missing values."
   ]
  },
  {
   "cell_type": "code",
   "execution_count": 8,
   "metadata": {},
   "outputs": [
    {
     "data": {
      "text/plain": [
       "      rcc             wcc               hc              hg       \n",
       " Min.   :3.800   Min.   : 3.300   Min.   :35.90   Min.   :11.60  \n",
       " 1st Qu.:4.372   1st Qu.: 5.900   1st Qu.:40.60   1st Qu.:13.50  \n",
       " Median :4.755   Median : 6.850   Median :43.50   Median :14.70  \n",
       " Mean   :4.719   Mean   : 7.109   Mean   :43.09   Mean   :14.57  \n",
       " 3rd Qu.:5.030   3rd Qu.: 8.275   3rd Qu.:45.58   3rd Qu.:15.57  \n",
       " Max.   :6.720   Max.   :14.300   Max.   :59.70   Max.   :19.20  \n",
       "                                                                 \n",
       "      ferr             bmi             ssf             pcBfat      \n",
       " Min.   :  8.00   Min.   :16.75   Min.   : 28.00   Min.   : 5.630  \n",
       " 1st Qu.: 41.25   1st Qu.:21.08   1st Qu.: 43.85   1st Qu.: 8.545  \n",
       " Median : 65.50   Median :22.72   Median : 58.60   Median :11.650  \n",
       " Mean   : 76.88   Mean   :22.96   Mean   : 69.02   Mean   :13.507  \n",
       " 3rd Qu.: 97.00   3rd Qu.:24.46   3rd Qu.: 90.35   3rd Qu.:18.080  \n",
       " Max.   :234.00   Max.   :34.42   Max.   :200.80   Max.   :35.520  \n",
       "                                                                   \n",
       "      lbm               ht              wt         sex         sport   \n",
       " Min.   : 34.36   Min.   :148.9   Min.   : 37.80   f:100   Row    :37  \n",
       " 1st Qu.: 54.67   1st Qu.:174.0   1st Qu.: 66.53   m:102   T_400m :29  \n",
       " Median : 63.03   Median :179.7   Median : 74.40           B_Ball :25  \n",
       " Mean   : 64.87   Mean   :180.1   Mean   : 75.01           Netball:23  \n",
       " 3rd Qu.: 74.75   3rd Qu.:186.2   3rd Qu.: 84.12           Swim   :22  \n",
       " Max.   :106.00   Max.   :209.4   Max.   :123.20           Field  :19  \n",
       "                                                           (Other):47  "
      ]
     },
     "metadata": {},
     "output_type": "display_data"
    }
   ],
   "source": [
    "summary(ais)"
   ]
  },
  {
   "cell_type": "markdown",
   "metadata": {},
   "source": [
    "(b) Make a table that shows the numbers of males and females for each different sport. In\n",
    "which sports is there a large imbalance (e.g., by a factor of more than 2:1) in the numbers\n",
    "of the two sexes?"
   ]
  },
  {
   "cell_type": "code",
   "execution_count": 74,
   "metadata": {},
   "outputs": [
    {
     "data": {
      "text/html": [
       "<table>\n",
       "<thead><tr><th scope=col>sport</th><th scope=col>f</th><th scope=col>m</th><th scope=col>inbalanced</th></tr></thead>\n",
       "<tbody>\n",
       "\t<tr><td>B_Ball </td><td>13     </td><td>12     </td><td>FALSE  </td></tr>\n",
       "\t<tr><td>Field  </td><td> 7     </td><td>12     </td><td>FALSE  </td></tr>\n",
       "\t<tr><td>Gym    </td><td> 4     </td><td> 0     </td><td> TRUE  </td></tr>\n",
       "\t<tr><td>Netball</td><td>23     </td><td> 0     </td><td> TRUE  </td></tr>\n",
       "\t<tr><td>Row    </td><td>22     </td><td>15     </td><td>FALSE  </td></tr>\n",
       "\t<tr><td>Swim   </td><td> 9     </td><td>13     </td><td>FALSE  </td></tr>\n",
       "\t<tr><td>T_400m </td><td>11     </td><td>18     </td><td>FALSE  </td></tr>\n",
       "\t<tr><td>T_Sprnt</td><td> 4     </td><td>11     </td><td> TRUE  </td></tr>\n",
       "\t<tr><td>Tennis </td><td> 7     </td><td> 4     </td><td>FALSE  </td></tr>\n",
       "\t<tr><td>W_Polo </td><td> 0     </td><td>17     </td><td> TRUE  </td></tr>\n",
       "</tbody>\n",
       "</table>\n"
      ],
      "text/latex": [
       "\\begin{tabular}{r|llll}\n",
       " sport & f & m & inbalanced\\\\\n",
       "\\hline\n",
       "\t B\\_Ball  & 13        & 12        & FALSE    \\\\\n",
       "\t Field   &  7      & 12      & FALSE  \\\\\n",
       "\t Gym     &  4      &  0      &  TRUE  \\\\\n",
       "\t Netball & 23      &  0      &  TRUE  \\\\\n",
       "\t Row     & 22      & 15      & FALSE  \\\\\n",
       "\t Swim    &  9      & 13      & FALSE  \\\\\n",
       "\t T\\_400m  & 11        & 18        & FALSE    \\\\\n",
       "\t T\\_Sprnt &  4        & 11        &  TRUE    \\\\\n",
       "\t Tennis  &  7      &  4      & FALSE  \\\\\n",
       "\t W\\_Polo  &  0        & 17        &  TRUE    \\\\\n",
       "\\end{tabular}\n"
      ],
      "text/markdown": [
       "\n",
       "| sport | f | m | inbalanced |\n",
       "|---|---|---|---|\n",
       "| B_Ball  | 13      | 12      | FALSE   |\n",
       "| Field   |  7      | 12      | FALSE   |\n",
       "| Gym     |  4      |  0      |  TRUE   |\n",
       "| Netball | 23      |  0      |  TRUE   |\n",
       "| Row     | 22      | 15      | FALSE   |\n",
       "| Swim    |  9      | 13      | FALSE   |\n",
       "| T_400m  | 11      | 18      | FALSE   |\n",
       "| T_Sprnt |  4      | 11      |  TRUE   |\n",
       "| Tennis  |  7      |  4      | FALSE   |\n",
       "| W_Polo  |  0      | 17      |  TRUE   |\n",
       "\n"
      ],
      "text/plain": [
       "   sport   f  m  inbalanced\n",
       "1  B_Ball  13 12 FALSE     \n",
       "2  Field    7 12 FALSE     \n",
       "3  Gym      4  0  TRUE     \n",
       "4  Netball 23  0  TRUE     \n",
       "5  Row     22 15 FALSE     \n",
       "6  Swim     9 13 FALSE     \n",
       "7  T_400m  11 18 FALSE     \n",
       "8  T_Sprnt  4 11  TRUE     \n",
       "9  Tennis   7  4 FALSE     \n",
       "10 W_Polo   0 17  TRUE     "
      ]
     },
     "metadata": {},
     "output_type": "display_data"
    }
   ],
   "source": [
    "ais %>% \n",
    "    group_by(sport) %>%\n",
    "    summarise(f = sum(sex==\"f\"), \n",
    "              m = sum(sex==\"m\"), \n",
    "              inbalanced = (ifelse(\n",
    "                  (  (2*sum(sex==\"f\")<sum(sex==\"m\"))  | (sum(sex==\"f\")>2*sum(sex==\"m\")) ) , # is sex imbalanced?\n",
    "                  T, #if true\n",
    "                  F   #if false\n",
    "                  )\n",
    "              )\n",
    "    )"
   ]
  },
  {
   "cell_type": "markdown",
   "metadata": {},
   "source": [
    "## Exercise 6\n",
    "\n",
    "Create a data frame called Manitoba.lakes that contains the lake’s elevation (in meters\n",
    "above sea level) and area (in square kilometers) as listed below. Assign the names of the lakes using the row.names() function.\n"
   ]
  },
  {
   "cell_type": "code",
   "execution_count": 1,
   "metadata": {},
   "outputs": [],
   "source": [
    "#data\n",
    "region <- c (\"Winnipeg\", \"Winnipegosis\", \"Manitoba\", \"SouthernIndian\", \"Cedar\" , \"Island\", \"Gods\", \"Cross\" ,\"Playgreen\")\n",
    "elevation <- c(217, 254, 248, 254, 253, 227, 178,207, 217)\n",
    "area <- c(24387, 5374, 4624, 2247, 1353, 1223, 1151, 755, 657)\n",
    "\n",
    "#create df\n",
    "Manitoba.lakes <- data.frame(elevation, area)\n",
    "\n",
    "#assign labels\n",
    "row.names(Manitoba.lakes) = region"
   ]
  },
  {
   "cell_type": "code",
   "execution_count": 2,
   "metadata": {},
   "outputs": [
    {
     "data": {
      "text/html": [
       "<table>\n",
       "<thead><tr><th></th><th scope=col>elevation</th><th scope=col>area</th></tr></thead>\n",
       "<tbody>\n",
       "\t<tr><th scope=row>Winnipeg</th><td>217  </td><td>24387</td></tr>\n",
       "\t<tr><th scope=row>Winnipegosis</th><td>254  </td><td> 5374</td></tr>\n",
       "\t<tr><th scope=row>Manitoba</th><td>248  </td><td> 4624</td></tr>\n",
       "\t<tr><th scope=row>SouthernIndian</th><td>254  </td><td> 2247</td></tr>\n",
       "\t<tr><th scope=row>Cedar</th><td>253  </td><td> 1353</td></tr>\n",
       "\t<tr><th scope=row>Island</th><td>227  </td><td> 1223</td></tr>\n",
       "\t<tr><th scope=row>Gods</th><td>178  </td><td> 1151</td></tr>\n",
       "\t<tr><th scope=row>Cross</th><td>207  </td><td>  755</td></tr>\n",
       "\t<tr><th scope=row>Playgreen</th><td>217  </td><td>  657</td></tr>\n",
       "</tbody>\n",
       "</table>\n"
      ],
      "text/latex": [
       "\\begin{tabular}{r|ll}\n",
       "  & elevation & area\\\\\n",
       "\\hline\n",
       "\tWinnipeg & 217   & 24387\\\\\n",
       "\tWinnipegosis & 254   &  5374\\\\\n",
       "\tManitoba & 248   &  4624\\\\\n",
       "\tSouthernIndian & 254   &  2247\\\\\n",
       "\tCedar & 253   &  1353\\\\\n",
       "\tIsland & 227   &  1223\\\\\n",
       "\tGods & 178   &  1151\\\\\n",
       "\tCross & 207   &   755\\\\\n",
       "\tPlaygreen & 217   &   657\\\\\n",
       "\\end{tabular}\n"
      ],
      "text/markdown": [
       "\n",
       "| <!--/--> | elevation | area |\n",
       "|---|---|---|\n",
       "| Winnipeg | 217   | 24387 |\n",
       "| Winnipegosis | 254   |  5374 |\n",
       "| Manitoba | 248   |  4624 |\n",
       "| SouthernIndian | 254   |  2247 |\n",
       "| Cedar | 253   |  1353 |\n",
       "| Island | 227   |  1223 |\n",
       "| Gods | 178   |  1151 |\n",
       "| Cross | 207   |   755 |\n",
       "| Playgreen | 217   |   657 |\n",
       "\n"
      ],
      "text/plain": [
       "               elevation area \n",
       "Winnipeg       217       24387\n",
       "Winnipegosis   254        5374\n",
       "Manitoba       248        4624\n",
       "SouthernIndian 254        2247\n",
       "Cedar          253        1353\n",
       "Island         227        1223\n",
       "Gods           178        1151\n",
       "Cross          207         755\n",
       "Playgreen      217         657"
      ]
     },
     "metadata": {},
     "output_type": "display_data"
    }
   ],
   "source": [
    "Manitoba.lakes"
   ]
  },
  {
   "cell_type": "markdown",
   "metadata": {},
   "source": [
    "a) Use the following code to plot log2(area) versus elevation, adding labeling infor-\n",
    "mation (there is an extreme value of area that makes a logarithmic scale pretty much\n",
    "essential).\n",
    "Devise captions that explain the labeling on the points and on the y-axis. It will be necessary\n",
    "to explain how distances on the scale relate to changes in area."
   ]
  },
  {
   "cell_type": "code",
   "execution_count": 11,
   "metadata": {},
   "outputs": [
    {
     "name": "stderr",
     "output_type": "stream",
     "text": [
      "The following objects are masked _by_ .GlobalEnv:\n",
      "\n",
      "    area, elevation\n",
      "\n",
      "The following objects are masked from Manitoba.lakes (pos = 3):\n",
      "\n",
      "    area, elevation\n",
      "\n"
     ]
    },
    {
     "data": {
      "image/png": "[encoded data removed]",
      "text/plain": [
       "Plot with title “Manitoba’s Largest Lakes”"
      ]
     },
     "metadata": {},
     "output_type": "display_data"
    }
   ],
   "source": [
    "attach(Manitoba.lakes)\n",
    "plot(log2(area) ~ elevation, pch=16, xlim=c(170,280))\n",
    "# NB: Doubling the area increases log2(area) by 1.0\n",
    "text(log2(area) ~ elevation,labels=row.names(Manitoba.lakes), pos=4)\n",
    "text(log2(area) ~ elevation, labels=area, pos=2)  #removed for readability, reinclude if forced by assignment\n",
    "title(\"Manitoba’s Largest Lakes\")\n",
    "detach(Manitoba.lakes)"
   ]
  },
  {
   "cell_type": "markdown",
   "metadata": {},
   "source": [
    " Elevation and log2(area) of Manitoba Largest Lakes. y axis has logaritmic scale, so an increase of 1 unit on the axis corresponds to a doubling in lake size."
   ]
  },
  {
   "cell_type": "markdown",
   "metadata": {},
   "source": [
    "Repeat the plot and associated labeling, now plotting area versus elevation, but\n",
    "specifying log=\"y\" in order to obtain a logarithmic y-scale. [Note: The log=\"y\"\n",
    "setting carries across to the subsequent text() commands. See Subsection 2.1.5 for an\n",
    "example.]"
   ]
  },
  {
   "cell_type": "code",
   "execution_count": 10,
   "metadata": {},
   "outputs": [
    {
     "name": "stderr",
     "output_type": "stream",
     "text": [
      "The following objects are masked _by_ .GlobalEnv:\n",
      "\n",
      "    area, elevation\n",
      "\n",
      "The following objects are masked from Manitoba.lakes (pos = 3):\n",
      "\n",
      "    area, elevation\n",
      "\n"
     ]
    },
    {
     "data": {
      "image/png": "[encoded data removed]",
      "text/plain": [
       "Plot with title “Manitoba’s Largest Lakes”"
      ]
     },
     "metadata": {},
     "output_type": "display_data"
    }
   ],
   "source": [
    "attach(Manitoba.lakes)\n",
    "plot(area ~ elevation, pch=16, xlim=c(170,280), log=\"y\")\n",
    "# NB: Doubling the area increases log2(area) by 1.0\n",
    "text(area ~ elevation, labels=row.names(Manitoba.lakes), pos=4)\n",
    "text(area ~ elevation, labels=area, pos=2) \n",
    "title(\"Manitoba’s Largest Lakes\")\n",
    "detach(Manitoba.lakes)"
   ]
  },
  {
   "cell_type": "markdown",
   "metadata": {},
   "source": [
    "## Exercise 11\n",
    "\n",
    "Run the following code. Explain the output from the successive uses of table()."
   ]
  },
  {
   "cell_type": "code",
   "execution_count": 1,
   "metadata": {},
   "outputs": [
    {
     "data": {
      "text/plain": [
       "gender\n",
       "female   male \n",
       "    91     92 "
      ]
     },
     "metadata": {},
     "output_type": "display_data"
    },
    {
     "data": {
      "text/plain": [
       "gender\n",
       "  male female \n",
       "    92     91 "
      ]
     },
     "metadata": {},
     "output_type": "display_data"
    },
    {
     "data": {
      "text/plain": [
       "gender\n",
       "  Male female \n",
       "     0     91 "
      ]
     },
     "metadata": {},
     "output_type": "display_data"
    },
    {
     "data": {
      "text/plain": [
       "gender\n",
       "  Male female   <NA> \n",
       "     0     91     92 "
      ]
     },
     "metadata": {},
     "output_type": "display_data"
    }
   ],
   "source": [
    "gender <- factor(c(rep(\"female\", 91), rep(\"male\", 92)))\n",
    "table(gender)\n",
    "gender <- factor(gender, levels=c(\"male\", \"female\"))\n",
    "table(gender)\n",
    "gender <- factor(gender, levels=c(\"Male\", \"female\"))\n",
    "# Note the mistake: \"Male\" should be \"male\"\n",
    "table(gender)\n",
    "table(gender, exclude=NULL)\n",
    "rm(gender)\n",
    "# Remove gender"
   ]
  },
  {
   "cell_type": "markdown",
   "metadata": {},
   "source": [
    "Annotated code:\n",
    "\n",
    "create a factor array with 91 repetitions of string \"female\" and 92 repetitions of string \"male\")\n",
    "\n",
    "```\n",
    "gender <- factor(c(rep(\"female\", 91), rep(\"male\", 92)))\n",
    "```\n",
    "\n",
    "\n",
    "output a table from the factor array:\n",
    "\n",
    "```\n",
    "table(gender)\n",
    "```\n",
    "\n",
    "\n",
    "modify our factor array, specifying that the levels of the factor are respectively \"male\" or \"female\", then output a table:\n",
    "\n",
    "```\n",
    "gender <- factor(gender, levels=c(\"male\", \"female\"))\n",
    "table(gender)\n",
    "```\n",
    "\n",
    "The table is correct because the labels are correctly recognized. Instead, with\n",
    "\n",
    "\n",
    "```\n",
    "gender <- factor(gender, levels=c(\"Male\", \"female\"))\n",
    "table(gender)\n",
    "```\n",
    "\n",
    "the label \"Male\" (that is different from \"male\", because R is case-sensitive) is not recognized, hence the count are, correctly, zero. The error is seen more clearly with \n",
    "\n",
    "```\n",
    "table(gender, exclude=NULL)\n",
    "rm(gender)\n",
    "```\n",
    "When asked to exclude unrecognized values, R specify that, for all the occurences of \"male\" label, NA is assigned."
   ]
  },
  {
   "cell_type": "markdown",
   "metadata": {},
   "source": [
    "## Exercise 12\n",
    "\n",
    "Write a function that calculates the proportion of values in a vector x that exceed some value\n",
    "cutoff."
   ]
  },
  {
   "cell_type": "code",
   "execution_count": 83,
   "metadata": {},
   "outputs": [],
   "source": [
    "thres <- function (x, threshold) {\n",
    "    length(which(x>threshold))/length(array(x))\n",
    "}"
   ]
  },
  {
   "cell_type": "markdown",
   "metadata": {},
   "source": [
    "(a) Use the sequence of numbers 1, 2, . . . , 100 to check that this function gives the result that\n",
    "is expected.\n",
    "\n"
   ]
  },
  {
   "cell_type": "code",
   "execution_count": 84,
   "metadata": {},
   "outputs": [
    {
     "data": {
      "text/html": [
       "0.6"
      ],
      "text/latex": [
       "0.6"
      ],
      "text/markdown": [
       "0.6"
      ],
      "text/plain": [
       "[1] 0.6"
      ]
     },
     "metadata": {},
     "output_type": "display_data"
    }
   ],
   "source": [
    "a = (1:100)\n",
    "thres(a,40)  #expected 0.6"
   ]
  },
  {
   "cell_type": "markdown",
   "metadata": {},
   "source": [
    "(b) Obtain the vector ex01.36 from the Devore6 (or Devore7) package. These data give\n",
    "the times required for individuals to escape from an oil platform during a drill. Use\n",
    "dotplot() to show the distribution of times. Calculate the proportion of escape times\n",
    "that exceed 7 minutes."
   ]
  },
  {
   "cell_type": "code",
   "execution_count": 66,
   "metadata": {},
   "outputs": [
    {
     "name": "stderr",
     "output_type": "stream",
     "text": [
      "Installing package into ‘/home/andrea/R/x86_64-pc-linux-gnu-library/3.5’\n",
      "(as ‘lib’ is unspecified)\n"
     ]
    }
   ],
   "source": [
    "library(\"DAAG\")\n",
    "install.packages(\"Devore7\")\n",
    "library(\"Devore7\")"
   ]
  },
  {
   "cell_type": "code",
   "execution_count": 103,
   "metadata": {},
   "outputs": [],
   "source": [
    "data <- unlist(array(ex01.36), use.names=FALSE)"
   ]
  },
  {
   "cell_type": "code",
   "execution_count": 109,
   "metadata": {},
   "outputs": [
    {
     "data": {
      "image/png": "[encoded data removed]",
      "text/plain": [
       "plot without title"
      ]
     },
     "metadata": {},
     "output_type": "display_data"
    }
   ],
   "source": [
    "dotplot(data)\n"
   ]
  },
  {
   "cell_type": "code",
   "execution_count": 107,
   "metadata": {},
   "outputs": [
    {
     "data": {
      "text/html": [
       "0.0384615384615385"
      ],
      "text/latex": [
       "0.0384615384615385"
      ],
      "text/markdown": [
       "0.0384615384615385"
      ],
      "text/plain": [
       "[1] 0.03846154"
      ]
     },
     "metadata": {},
     "output_type": "display_data"
    }
   ],
   "source": [
    "thres(data,420)   #  % if time is more than 7 minutes"
   ]
  },
  {
   "cell_type": "markdown",
   "metadata": {},
   "source": [
    "## Exercise 13\n",
    "\n",
    "The following plots four different transformations of the `Animals` data from the `MASS` package.\n",
    "What different aspects of the data do these different graphs emphasize? Consider the effect on\n",
    "low values of the variables, as contrasted with the effect on high values."
   ]
  },
  {
   "cell_type": "code",
   "execution_count": 112,
   "metadata": {},
   "outputs": [
    {
     "data": {
      "image/png": "[encoded data removed]",
      "text/plain": [
       "plot without title"
      ]
     },
     "metadata": {},
     "output_type": "display_data"
    }
   ],
   "source": [
    "par(mfrow=c(2,2))\n",
    "# 2 by 2 layout on the page\n",
    "library(MASS)\n",
    "# Animals is in the MASS package\n",
    "plot(brain~body, data=Animals)\n",
    "plot(sqrt(brain)~sqrt(body), data=Animals)\n",
    "plot(I(brain^0.1)~I(body^0.1), data=Animals)\n",
    "# I() forces its argument to be treated \"as is\"\n",
    "plot(log(brain)~log(body), data=Animals)\n",
    "par(mfrow=c(1,1))\n",
    "# Restore to 1 figure per page"
   ]
  },
  {
   "cell_type": "markdown",
   "metadata": {},
   "source": [
    "Graph 1 could be useful to assess the range of both variables, even if it cannot give an useful view of their eventual correlation. It can be seen that there is no direct linear correlation between variables. Outsiders are evident in this graph: animals with either very large body mass and small brain (lower right) or small body mass and large brains (probably data science students) on higher left.\n",
    "\n",
    "Graph 2 uses square roots. Given that data (brain and body mass) both are supposed to scale with the third power of ody length in animals, squaring the values could be a first step to identify linear correlations. Rooting start canceling the effect of ousiders, and, with respect to the first graph, data points appear to move towards the center.\n",
    "\n",
    "Graph 3 pushes this effect even more, elevating the data to the 1/10th power, but data are still very aggregated near the origin. \n",
    "\n",
    "Graph 4 finally solves the issue using log scale for both axes.\n",
    "\n",
    "Which is better? It depends. Graph 1 is better to catch variable range at first sigh, while graphs 3 and 4 help noticing a correlation between variables, that is masked by heavy compression near the origin in the first graphs."
   ]
  },
  {
   "cell_type": "markdown",
   "metadata": {},
   "source": [
    "## Exercise 15\n",
    "\n",
    "The data frame socsupport (DAAG) has data from a survey on social and other kinds of\n",
    "support, for a group of university students. It includes Beck Depression Inventory (BDI) scores.\n",
    "The following are two alternative plots of BDI against age:\n",
    "```\n",
    "plot(BDI  ̃ age, data=socsupport)\n",
    "plot(BDI  ̃ unclass(age), data=socsupport)\n",
    "```\n",
    "For examination of cases where the score seems very high, which plot is more useful? Explain.\n",
    "Why is it necessary to be cautious in making anything of the plots for students in the three oldest\n",
    "age categories (25-30, 31-40, 40+)?"
   ]
  },
  {
   "cell_type": "code",
   "execution_count": 1,
   "metadata": {},
   "outputs": [
    {
     "name": "stderr",
     "output_type": "stream",
     "text": [
      "Loading required package: lattice\n"
     ]
    }
   ],
   "source": [
    "library(\"DAAG\")"
   ]
  },
  {
   "cell_type": "code",
   "execution_count": 19,
   "metadata": {},
   "outputs": [
    {
     "data": {
      "image/png": "[encoded data removed]",
      "text/plain": [
       "plot without title"
      ]
     },
     "metadata": {},
     "output_type": "display_data"
    }
   ],
   "source": [
    "par(mfrow=c(2,2))\n",
    "plot(BDI~age, data=socsupport)\n",
    "plot(BDI~unclass(age), data=socsupport)\n",
    "\n",
    "#modified graphs\n",
    "plot(BDI~age, data=socsupport)\n",
    "plot(BDI~ jitter(unclass(age)) , data=socsupport, pch=20, col=rgb(0.1, 0.2, 0.8, 0.3) , xlab=\"X\", ylab=\"Y\", bty=\"n\" )\n",
    "par(mfrow=c(1,1))"
   ]
  },
  {
   "cell_type": "markdown",
   "metadata": {},
   "source": [
    "The first graph is as boxplot, the second one is a dotplot, showing the incidence of depression in classes of people, divided by age class. BDI (Beck Depression Inventory) is a test used to self-assess depression incidence. Results are read in bins:\n",
    "\n",
    "```\n",
    "BDI < 10 : no depression\n",
    "10 < BDI < 19 : traces of slight depression\n",
    "20 < BDI < 29 : traces of moderate depression\n",
    "BDI > 30 : traces of severe depression\n",
    "```\n",
    "\n",
    "Boxplot graph reveals that there are 6 outsiders, mostly concentrated in younger age classes.\n",
    "\n",
    "It would be dangerous to infer hypotheses on the oldest age classes, because the second graph reveals that there are just 6 and 4 data points for the last age classes. To have a clearer view of that, in the fourth graph I added some jittering and an alpha to the color of the dots.\n"
   ]
  },
  {
   "cell_type": "markdown",
   "metadata": {},
   "source": [
    "## Exercise 17\n",
    "\n",
    "Given a vector x, the following demonstrates alternative ways to create a vector of numbers\n",
    "from 1 through n, where n is the length of the vector:\n",
    "```\n",
    "x <- c(8, 54, 534, 1630, 6611)\n",
    "seq(1, length(x))\n",
    "seq(along=x)\n",
    "```\n",
    "\n",
    "Now set `x <- NULL` and repeat each of the calculations `seq(1, length(x))` and `seq(along=x)`. Which version of the calculation should be used in order to return a vector of length 0 in the event that the supplied argument is NULL."
   ]
  },
  {
   "cell_type": "code",
   "execution_count": 12,
   "metadata": {
    "scrolled": true
   },
   "outputs": [
    {
     "data": {
      "text/html": [
       "<ol class=list-inline>\n",
       "\t<li>1</li>\n",
       "\t<li>0</li>\n",
       "</ol>\n"
      ],
      "text/latex": [
       "\\begin{enumerate*}\n",
       "\\item 1\n",
       "\\item 0\n",
       "\\end{enumerate*}\n"
      ],
      "text/markdown": [
       "1. 1\n",
       "2. 0\n",
       "\n",
       "\n"
      ],
      "text/plain": [
       "[1] 1 0"
      ]
     },
     "metadata": {},
     "output_type": "display_data"
    },
    {
     "data": {
      "text/html": [],
      "text/latex": [],
      "text/markdown": [],
      "text/plain": [
       "integer(0)"
      ]
     },
     "metadata": {},
     "output_type": "display_data"
    },
    {
     "data": {
      "text/html": [],
      "text/latex": [],
      "text/markdown": [],
      "text/plain": [
       "integer(0)"
      ]
     },
     "metadata": {},
     "output_type": "display_data"
    }
   ],
   "source": [
    "x <- NULL\n",
    "seq(1, length(x))\n",
    "seq(along=x)\n",
    "seq_along(x)"
   ]
  },
  {
   "cell_type": "markdown",
   "metadata": {},
   "source": [
    "The latter, discovered by the good old empirical way. The first command return a `c(1,0)` vector, in case of NULL vector. The second returns NULL. For the latter output one could use `seq_along(x)`, despite the chaotic similarity with other syntaxes.\n"
   ]
  },
  {
   "cell_type": "markdown",
   "metadata": {},
   "source": [
    "## Exercise 20\n",
    "\n",
    "The help page for iris (type help(iris)) gives code that converts the data in\n",
    "iris3 (datasets package) to case-by-variable format, with column names “Sepal.Length”,“Sepal.Width”, “Petal.Length”, “Petal.Width”, and “Species”. Look up the help pages for the\n",
    "functions that are used, and make sure that you understand them. Then add annotation to this\n",
    "code that explains each step in the computation."
   ]
  },
  {
   "cell_type": "code",
   "execution_count": 13,
   "metadata": {},
   "outputs": [],
   "source": [
    "help(iris)"
   ]
  },
  {
   "cell_type": "code",
   "execution_count": 19,
   "metadata": {},
   "outputs": [
    {
     "data": {
      "text/html": [
       "TRUE"
      ],
      "text/latex": [
       "TRUE"
      ],
      "text/markdown": [
       "TRUE"
      ],
      "text/plain": [
       "[1] TRUE"
      ]
     },
     "metadata": {},
     "output_type": "display_data"
    }
   ],
   "source": [
    "#retrieve the dimension names from iris3 dataset.\n",
    "# a list of 3 elements is returned:\n",
    "\n",
    "# NULL\n",
    "# 'Sepal L.' 'Sepal W.' 'Petal L.' 'Petal W.' \n",
    "# 'Setosa' 'Versicolor' 'Virginica\n",
    "\n",
    "dni3 <- dimnames(iris3) \n",
    "\n",
    "#creates a new dataframe from a matrix created by transforming the original matrix over 4 columns, \n",
    "ii <- data.frame(matrix(aperm(iris3, c(1,3,2)), ncol = 4,   #use first, third and second dimension respectively, output will have 4 columns\n",
    "                        dimnames = list(NULL, sub(\" L.\",\".Length\",  #get the dimension names from dni3 variable (see above)\n",
    "                                        sub(\" W.\",\".Width\", dni3[[2]])))),\n",
    "    Species = gl(3, 50, labels = sub(\"S\", \"s\", sub(\"V\", \"v\", dni3[[3]])))) #get species name from the third list in dni3\n",
    "all.equal(ii, iris) # check if the transformed dataframe's elements are identical to iris dataframe"
   ]
  },
  {
   "cell_type": "code",
   "execution_count": null,
   "metadata": {},
   "outputs": [],
   "source": []
  },
  {
   "cell_type": "code",
   "execution_count": null,
   "metadata": {},
   "outputs": [],
   "source": []
  }
 ],
 "metadata": {
  "kernelspec": {
   "display_name": "R",
   "language": "R",
   "name": "ir"
  },
  "language_info": {
   "codemirror_mode": "r",
   "file_extension": ".r",
   "mimetype": "text/x-r-source",
   "name": "R",
   "pygments_lexer": "r",
   "version": "3.5.1"
  }
 },
 "nbformat": 4,
 "nbformat_minor": 2
}
