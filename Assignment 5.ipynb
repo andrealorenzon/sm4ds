{
 "cells": [
  {
   "cell_type": "markdown",
   "metadata": {},
   "source": [
    "Lorenzon \t\n",
    "CS 1.3 \t\n",
    "CS 2.4 \t\n",
    "CS 4.3 \t\n",
    "BC 2.5 \t\n",
    "DAAG 7.5 "
   ]
  },
  {
   "cell_type": "markdown",
   "metadata": {},
   "source": [
    "# CS 1.3 \t"
   ]
  },
  {
   "cell_type": "markdown",
   "metadata": {},
   "source": [
    "Suppose that \n",
    "$$ Y \\sim \n",
    "\\left(\n",
    "\\begin{bmatrix}\n",
    "    1  \\\\\n",
    "   2 \n",
    "\\end{bmatrix},\n",
    "\\begin{bmatrix}\n",
    "2 & 1 \\\\\n",
    "1 & 2  \n",
    "\\end{bmatrix}\n",
    "\\right) $$\n",
    "\n",
    "Find the conditional p.d.f. of $Y_1$ given that $Y_1 + Y_2 = 3$"
   ]
  },
  {
   "cell_type": "markdown",
   "metadata": {},
   "source": [
    "**Solution:**\n",
    "\n",
    "\n",
    "The conditional (on $Y_2 = 3 - Y_1$ )   distribution is a multivariate normal $(Y_1 | Y_2 = 3 - Y_1) \\sim N(\\bar\\mu , \\bar\\Sigma)$ where:\n",
    "\n",
    "$\\bar\\mu = \\mu_1 + \\Sigma_{12} \\Sigma_{22}^{-1}(3 -Y_1 - \\mu_2)$\n",
    "\n",
    "and covariance matrix:\n",
    "\n",
    "$ \\bar\\Sigma = \\Sigma_{11} - \\Sigma_{12}\\Sigma_{22}^{-1}\\Sigma_{21}$\n",
    "\n",
    "As a general case, $$X_1 | X_2 = x_2 \\sim Normal \\left(\\mu_1 + \\frac{\\sigma_1}{\\sigma_2} \\rho (x_2-\\mu_2), (1-\\rho^2)\\sigma_1^2\\right)$$\n",
    "\n",
    "with $\\rho = -1$\n",
    "\n",
    "so\n",
    "\n",
    "$$X_1 | X_2 = x_2 \\sim Normal \\left(\\mu_1 - \\frac{\\sigma_1}{\\sigma_2}  (x_2-\\mu_2), (1-1)\\sigma_1^2\\right)$$\n",
    "\n",
    "$$X_1 | X_2 = x_2 \\sim Normal \\left(\\mu_1 - \\frac{\\sigma_1}{\\sigma_2}  (x_2-\\mu_2), 0\\right)$$\n",
    "\n",
    "From $\\Sigma$, $\\sigma_1 = \\sigma_2$, so it reduces to:\n",
    "\n",
    "$$X_1 | X_2 = x_2 \\sim Normal \\left(\\mu_1 - (x_2-\\mu_2), 0\\right)$$\n",
    "\n",
    "$$X_1 | X_2 = x_2 \\sim Normal \\left(\\mu_1+\\mu_2 - x_2, 0\\right)$$\n",
    "\n",
    "and from the problem\n",
    "\n",
    "$$X_1 | X_2 = x_2 \\sim Normal \\left(3-x_2, 0\\right)$$\n",
    "\n",
    "It makes sense, since, if you know one of the variables, and the sum is fixed, you know the other."
   ]
  },
  {
   "cell_type": "markdown",
   "metadata": {},
   "source": [
    "# CS 2.4\n",
    "\n",
    "Using R, write a function to evaluate the log-likelihood of $\\theta_t$ for example 4 in section 2.1. (Hint: see `?dexp`). Plot log likelihood against $\\theta_t$ over a suitable range and making use of (2.4) and the definition of a confidence interval, find a 95% confidence interval for $\\theta_t$ (`pchisq` is also useful)."
   ]
  },
  {
   "cell_type": "markdown",
   "metadata": {},
   "source": [
    "MLE for exponential distributions is $\\hat\\lambda=\\frac{1}{\\bar x}$"
   ]
  },
  {
   "cell_type": "code",
   "execution_count": null,
   "metadata": {
    "scrolled": false
   },
   "outputs": [],
   "source": [
    "LLexp <- function (theta) {\n",
    "     log(theta) * n -theta*sum(xx)\n",
    "}\n",
    "LLexp2 <- Vectorize(LLexp, \"theta\")\n",
    "\n",
    "\n",
    "#range of theta\n",
    "theta <- seq (0.00000001, 1000, 1)\n",
    "\n",
    "#data from book\n",
    "xx = c (28, 32, 49, 84, 357,933,1078,1183,1560,2114,2144)\n",
    "mean(xx) #MLE\n",
    "n= length(xx)\n",
    "#length(LLexp2(xx,theta))\n",
    "#length(theta)\n",
    "\n",
    "plot(theta,sapply(theta, LLexp2))\n",
    "#this is wrong. There should be a maximum at 869,27 ..\n"
   ]
  },
  {
   "cell_type": "markdown",
   "metadata": {},
   "source": [
    "# CS 4.3\n",
    "\n",
    "\n",
    "Random variables $X$ and $Y$ have a joint p.d.f. $f(x,y)= k x^\\alpha y^\\beta , 0 \\le x\\le 1, 0 \\le y\\le 1$.\n",
    "\n",
    "Assume that you have $n$ independent pairs of observations $(x_i, y_i)$:\n",
    "\n",
    "a) evaluate $k$ in terms of $\\alpha$ and $\\beta$.\n",
    "\n",
    "b) find the ML estimators of $\\alpha$ and $\\beta$\n",
    "\n",
    "c) find the appropriate variances of $\\hat\\alpha$ and $\\hat\\beta$"
   ]
  },
  {
   "cell_type": "code",
   "execution_count": null,
   "metadata": {},
   "outputs": [],
   "source": []
  },
  {
   "cell_type": "markdown",
   "metadata": {},
   "source": [
    "# BC 2.5\n",
    "\n",
    "**Estimate a normal mean with discrete prior.**\n",
    "\n",
    "Suppose you are interested in estimating the total average snowfall per year $\\mu$ (in inches) for a large city on the East Coast of the United States. Assume individual yearly snow totals $y_1, ... , y_n$ are collected from a population that is assumed to be normally distributed with mean $\\mu$ and known standard deviation $\\sigma$ = 10 inches.\n",
    "\n",
    "a) before collecting data, suppose you believe that the mean snowfall $\\mu$ can be the values 20,30,40,50,60,70 inches with the following probabilities:\n",
    "\n",
    "    mu    |  20    30    40    50    60    70\n",
    "    sigma |  .1    .15   .25   .25   .15   .1\n",
    "    \n",
    "Place the $\\mu$ probabilities in the vector `mu` and the associated prior probabilities in the vector `prior`.\n"
   ]
  },
  {
   "cell_type": "code",
   "execution_count": 2,
   "metadata": {},
   "outputs": [],
   "source": [
    "mu <- c(20,30,40,50,60,70)\n",
    "sigma <- c(.1,.15,.25,.25,.15,.1)"
   ]
  },
  {
   "cell_type": "markdown",
   "metadata": {},
   "source": [
    "b) Suppose you observe the yearly snowfall totals 38.6, 42.4, 57.5, 40.5, 51.7, 67.1, 33.4, 60.9, 64.1, 40.1, 40.7. Enter these data in the vector `y` and compute the sample mean `ybar`."
   ]
  },
  {
   "cell_type": "code",
   "execution_count": 3,
   "metadata": {},
   "outputs": [],
   "source": [
    "y <- c(38.6, 42.4, 57.5, 40.5, 51.7, 67.1, 33.4, 60.9, 64.1, 40.1, 40.7)\n",
    "ybar <- mean(y)"
   ]
  },
  {
   "cell_type": "markdown",
   "metadata": {},
   "source": [
    "c) In this problem, the likelihood function is given by  $$ L(\\mu) = exp (-\\frac{n}{2\\sigma}(\\mu-\\bar y)^2)$$ where $\\bar y$ is the sample mean. Compute the likelihood of the list of values in `mu` and place the likelihood values in the vector `like`. "
   ]
  },
  {
   "cell_type": "code",
   "execution_count": null,
   "metadata": {},
   "outputs": [],
   "source": [
    "function L(x, m, s) {\n",
    "    y \n",
    "}"
   ]
  },
  {
   "cell_type": "markdown",
   "metadata": {},
   "source": [
    "d) one can compute the posterior probability for $\\mu$ using the formula `post=prior*like/sum(prior*like)`. Compute the posterior probabilities of $\\mu$ for this example."
   ]
  },
  {
   "cell_type": "code",
   "execution_count": null,
   "metadata": {},
   "outputs": [],
   "source": []
  },
  {
   "cell_type": "markdown",
   "metadata": {},
   "source": [
    "e) Using the function `discint`, find an 80% probability interval for $\\mu$."
   ]
  },
  {
   "cell_type": "code",
   "execution_count": null,
   "metadata": {},
   "outputs": [],
   "source": []
  },
  {
   "cell_type": "markdown",
   "metadata": {},
   "source": [
    "# DAAG 7.5 \n",
    "\n",
    "The data frame `cuckoos` holds data on the lengths and breadths of eggs of cuckoos, found in\n",
    "the nests of six different species of host birds. Fit models for the regression of length on breadth\n",
    "that have:\n",
    "\n",
    "A: a single line for all six species.\n",
    "B: different parallel lines for the different host species.\n",
    "C: separate lines for the separate host species.\n",
    "\n",
    "Use the `anova()` function to print out the sequential analysis of variance table. Which of the\n",
    "three models is preferred? Print out the diagnostic plots for this model. Do they show anything\n",
    "worthy of note? Examine the output coefficients from this model carefully, and decide whether\n",
    "the results seem grouped by host species. How might the results be summarized for reporting\n",
    "purposes?\n"
   ]
  },
  {
   "cell_type": "code",
   "execution_count": null,
   "metadata": {},
   "outputs": [],
   "source": []
  }
 ],
 "metadata": {
  "kernelspec": {
   "display_name": "R",
   "language": "R",
   "name": "ir"
  },
  "language_info": {
   "codemirror_mode": "r",
   "file_extension": ".r",
   "mimetype": "text/x-r-source",
   "name": "R",
   "pygments_lexer": "r",
   "version": "3.5.3"
  }
 },
 "nbformat": 4,
 "nbformat_minor": 2
}
