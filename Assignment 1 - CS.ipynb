{
 "cells": [
  {
   "cell_type": "markdown",
   "metadata": {},
   "source": [
    "## Exercise 1.1\n",
    "\n",
    "Exponential random variable, $X \\ge 0$, has p.d.f. $f(x) = \\lambda exp(-\\lambda x)$\n",
    "\n",
    "1. find the c.d.f. and the quantile function for X\n",
    "2. find $Pr (X < \\lambda)$ and the median of X.\n",
    "3. find the mean and the variance of X."
   ]
  },
  {
   "cell_type": "markdown",
   "metadata": {},
   "source": [
    "### solutions\n",
    "\n",
    "1. The c.d.f is $\\int \\lambda  e^{-\\lambda x} dx  =   1 - e^{-\\lambda x}$.  The quantile function, that is the $Pr(X\\le x)$ , is \t$\\frac{−ln(1 − p)}{\\lambda}$\n",
    "\n",
    "2. $Pr (X < \\lambda) = \\frac{-ln(1-\\lambda)}{\\lambda}$ .The median is $ln(2)/\\lambda$\n",
    "3. $Mean(X) = \\lambda/2 ; Var(X) = 1/{\\lambda^2}$\n"
   ]
  },
  {
   "cell_type": "markdown",
   "metadata": {},
   "source": [
    "## Exercise 1.2\n",
    "\n",
    "Evaluate $Pr(x < 0.5, Y<0.5)$ if $X$ and $Y$"
   ]
  },
  {
   "cell_type": "markdown",
   "metadata": {},
   "source": [
    "### solutions\n",
    "\n",
    "if d is the p.d.f. in analysis, $Pr(x < 0.5, Y<0.5)$ is equal to \n",
    "\n",
    "$$\\int_{0}^{.5} \\int_{0}^{.5} f(x,y) dx dy$$\n",
    "$$\\int_{0}^{.5} \\int_{0}^{.5} (x+\\frac{3}{2}y^2) dx dy$$\n",
    "Solving for the first integral:\n",
    "$$\\int_{0}^{.5} \\left[ \\left(\\frac{1}{2}x^2+\\frac{3}{2}y^2x\\right) \\right]_{x=0}^{x=0.5} dy$$\n",
    "$$\\int_{0}^{.5} \\left(\\frac{1}{8}+\\frac{3}{4}y^2\\right)  dy$$\n",
    "Solving for the second integral:\n",
    "$$\\left[\\frac{1}{8}y+\\frac{3}{12}y^3\\right]_{y=0}^{y=0.5}$$\n",
    "$$ \\frac{1}{16} + \\frac{3}{12} * \\frac{1}{8} = \\frac{3}{32} = 0.0937$$"
   ]
  },
  {
   "cell_type": "code",
   "execution_count": null,
   "metadata": {},
   "outputs": [],
   "source": []
  }
 ],
 "metadata": {
  "kernelspec": {
   "display_name": "Python 3",
   "language": "python",
   "name": "python3"
  },
  "language_info": {
   "codemirror_mode": {
    "name": "ipython",
    "version": 3
   },
   "file_extension": ".py",
   "mimetype": "text/x-python",
   "name": "python",
   "nbconvert_exporter": "python",
   "pygments_lexer": "ipython3",
   "version": "3.6.7"
  }
 },
 "nbformat": 4,
 "nbformat_minor": 2
}
