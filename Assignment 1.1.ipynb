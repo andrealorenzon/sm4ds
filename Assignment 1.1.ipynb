{
 "cells": [
  {
   "cell_type": "markdown",
   "metadata": {},
   "source": [
    "## Exercise 1.1\n",
    "\n",
    "Exponential random variable, $X \\ge 0$, has p.d.f. $f(x) = \\lambda exp(-\\lambda x)$\n",
    "\n",
    "1. find the c.d.f. and the quantile function for X\n",
    "2. find $Pr (X < \\lambda)$ and the median of X.\n",
    "3. find the mean and the variance of X."
   ]
  },
  {
   "cell_type": "markdown",
   "metadata": {},
   "source": [
    "### solutions\n",
    "\n",
    "1. The c.d.f is $\\int \\lambda  e^{-\\lambda x} dx  =   1 - e^{-\\lambda x}$.  The quantile function, that is the $Pr(X\\le x)$ , is \t$\\frac{−ln(1 − p)}{\\lambda}$\n",
    "\n",
    "2. $Pr (X < \\lambda) = \\frac{-ln(1-\\lambda)}{\\lambda}$ .The median is $ln(2)/\\lambda$\n",
    "3. $Mean(X) = \\lambda/2 ; Var(X) = 1/{\\lambda^2}$\n"
   ]
  },
  {
   "cell_type": "markdown",
   "metadata": {},
   "source": [
    "## Exercise 1.2\n",
    "\n",
    "Evaluate $Pr(x < 0.5, Y<0.5)$ if $X$ and $Y$"
   ]
  }
 ],
 "metadata": {
  "kernelspec": {
   "display_name": "Python 3",
   "language": "python",
   "name": "python3"
  },
  "language_info": {
   "codemirror_mode": {
    "name": "ipython",
    "version": 3
   },
   "file_extension": ".py",
   "mimetype": "text/x-python",
   "name": "python",
   "nbconvert_exporter": "python",
   "pygments_lexer": "ipython3",
   "version": "3.6.7"
  }
 },
 "nbformat": 4,
 "nbformat_minor": 2
}
